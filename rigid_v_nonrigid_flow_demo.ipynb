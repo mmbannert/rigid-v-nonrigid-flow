{
 "cells": [
  {
   "cell_type": "code",
   "execution_count": null,
   "metadata": {},
   "outputs": [],
   "source": [
    "import os\n",
    "import iofun.wrappers as wrappers\n",
    "from tools.utils import interpolate_nans\n",
    "from tools.viz import visualize_results\n",
    "from tools.flowcalc import calc_rigid_and_nonrigid_flow\n"
   ]
  },
  {
   "cell_type": "code",
   "execution_count": null,
   "metadata": {},
   "outputs": [],
   "source": [
    "%matplotlib inline\n",
    " \n",
    "op = os.path"
   ]
  },
  {
   "cell_type": "markdown",
   "metadata": {},
   "source": [
    "# You may need to change this!"
   ]
  },
  {
   "cell_type": "code",
   "execution_count": null,
   "metadata": {},
   "outputs": [],
   "source": [
    "base_dir = '.' # Path to your installation directory\n"
   ]
  },
  {
   "cell_type": "markdown",
   "metadata": {},
   "source": [
    "# Basic parameters\n",
    "\n",
    "* Where are the data stored?\n",
    "* What frames should be shown?\n",
    "* What movie should be used?\n",
    "\n",
    "There is no need to change any of this for the demo."
   ]
  },
  {
   "cell_type": "code",
   "execution_count": null,
   "metadata": {},
   "outputs": [],
   "source": [
    "# Keep arguments in separate dictionaries to loop over\n",
    "examples = {\n",
    "    'sintel': {\n",
    "        'dataset': 'sintel',\n",
    "        'data_dir': op.join(base_dir, 'stimuli/sintel'),\n",
    "        'mov_name': 'mountain_1',\n",
    "        'frame1_num': 30,\n",
    "    },\n",
    "    'spring': {\n",
    "        'dataset': 'spring',\n",
    "        'data_dir': op.join(base_dir, 'stimuli/spring/train'),\n",
    "        'mov_name': '0001',\n",
    "        'frame1_num': 10,\n",
    "    },\n",
    "    'kubric': {\n",
    "        'dataset': 'kubric',\n",
    "        'data_dir': op.join(base_dir, 'stimuli/kubric'),\n",
    "        'mov_name': 'video_out_0000',\n",
    "        'frame1_num': 20,\n",
    "    },\n",
    "    'monkaa': {\n",
    "        'dataset': 'monkaa',\n",
    "        'data_dir': op.join(base_dir, 'stimuli/monkaa'),\n",
    "        'mov_name': 'treeflight_x2',\n",
    "        'frame1_num': 300,\n",
    "    }\n",
    "}"
   ]
  },
  {
   "cell_type": "code",
   "execution_count": null,
   "metadata": {},
   "outputs": [],
   "source": [
    "ds_names = ['sintel', 'spring', 'kubric', 'monkaa']\n",
    "\n",
    "for ds in ds_names:\n",
    "    print(ds)\n",
    "    rgb1, rgb2 = wrappers.get_rgb(**examples[ds])\n",
    "    depth1, depth2 = wrappers.get_depth(**examples[ds])\n",
    "    cam1, cam2 = wrappers.get_camera(**examples[ds]) \n",
    "    flow = wrappers.get_flow(**examples[ds])\n",
    "\n",
    "    # replace nans\n",
    "    print('replacing nans in optical flow map ...')\n",
    "    flow = interpolate_nans(flow)\n",
    "\n",
    "    print('replacing nans in depth1 map ...')\n",
    "    depth1 = interpolate_nans(depth1)\n",
    "\n",
    "    print('replacing nans in depth2 map ...')\n",
    "    depth2 = interpolate_nans(depth2)\n",
    "\n",
    "    rig_flo, nonrig_flo = calc_rigid_and_nonrigid_flow((depth1, depth2),\n",
    "    (cam1, cam2), flow, rgb1.shape[:2])\n",
    "    visualize_results((rgb1, rgb2), (depth1, depth2), flow, rig_flo,\n",
    "    nonrig_flo, ds)\n"
   ]
  }
 ],
 "metadata": {
  "kernelspec": {
   "display_name": "cv",
   "language": "python",
   "name": "python3"
  },
  "language_info": {
   "codemirror_mode": {
    "name": "ipython",
    "version": 3
   },
   "file_extension": ".py",
   "mimetype": "text/x-python",
   "name": "python",
   "nbconvert_exporter": "python",
   "pygments_lexer": "ipython3",
   "version": "3.9.18"
  }
 },
 "nbformat": 4,
 "nbformat_minor": 2
}
